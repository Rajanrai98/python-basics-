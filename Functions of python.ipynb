{
 "cells": [
  {
   "cell_type": "code",
   "execution_count": 7,
   "id": "215cf03e",
   "metadata": {},
   "outputs": [
    {
     "name": "stdout",
     "output_type": "stream",
     "text": [
      "4\n",
      "81\n"
     ]
    }
   ],
   "source": [
    "## pow\n",
    "\n",
    "x1 = pow(2,2)\n",
    "x2 = pow(3,4)\n",
    "print(x1)\n",
    "print(x2)"
   ]
  },
  {
   "cell_type": "code",
   "execution_count": 8,
   "id": "f5cf7493",
   "metadata": {},
   "outputs": [
    {
     "name": "stdout",
     "output_type": "stream",
     "text": [
      "8\n",
      "3\n"
     ]
    }
   ],
   "source": [
    "y1 = pow(2,3)\n",
    "y2 = pow(3,1)\n",
    "print(y1)\n",
    "print(y2)"
   ]
  },
  {
   "cell_type": "code",
   "execution_count": 9,
   "id": "3723d0e9",
   "metadata": {},
   "outputs": [
    {
     "name": "stdout",
     "output_type": "stream",
     "text": [
      "1024\n",
      "8\n"
     ]
    }
   ],
   "source": [
    "X3 = pow(4,5)\n",
    "X2 = pow(2,3)\n",
    "print(X3)\n",
    "print(X2)"
   ]
  },
  {
   "cell_type": "code",
   "execution_count": 1,
   "id": "5eed13b3",
   "metadata": {},
   "outputs": [],
   "source": [
    "pi = 3.14\n",
    "def  circleArea(radius):\n",
    "    return pi*radius*radius\n",
    "\n",
    "def sphereArea(radius):\n",
    "    return 4*pi*radius*radius\n",
    "def main():\n",
    "    print('cricle area radius 15:',circleArea(15))\n",
    "    print('spherical area with radius 10:',sphereArea(10))\n",
    "    \n",
    "    main()\n",
    "\n",
    "    \n",
    "    "
   ]
  },
  {
   "cell_type": "code",
   "execution_count": null,
   "id": "30388701",
   "metadata": {},
   "outputs": [],
   "source": [
    "main()"
   ]
  },
  {
   "cell_type": "code",
   "execution_count": 1,
   "id": "b0820d5a",
   "metadata": {},
   "outputs": [],
   "source": [
    "def welcome(*name):\n",
    "    print('hello',name[0],',',name[1],',',name[2],',',name[3],',',name[4])"
   ]
  },
  {
   "cell_type": "code",
   "execution_count": 2,
   "id": "0ce291e7",
   "metadata": {},
   "outputs": [
    {
     "name": "stdout",
     "output_type": "stream",
     "text": [
      "hello steve , james , perry , john , anderson\n"
     ]
    }
   ],
   "source": [
    "welcome('steve','james','perry','john','anderson')"
   ]
  },
  {
   "cell_type": "code",
   "execution_count": 3,
   "id": "4a53064b",
   "metadata": {},
   "outputs": [],
   "source": [
    "def welcome(*name):\n",
    "    print('Good morning',name[0],',',name[1],',',name[2],',',name[3],',',name[4])"
   ]
  },
  {
   "cell_type": "code",
   "execution_count": 4,
   "id": "c7414aba",
   "metadata": {},
   "outputs": [
    {
     "name": "stdout",
     "output_type": "stream",
     "text": [
      "Good morning steve , marxon , tond , banry , james\n"
     ]
    }
   ],
   "source": [
    "welcome('steve','marxon','tond','banry','james','jenrry')"
   ]
  },
  {
   "cell_type": "code",
   "execution_count": 5,
   "id": "5c0754ba",
   "metadata": {},
   "outputs": [],
   "source": [
    "def message(name1,name2,name3):\n",
    "\n",
    "    print('hello',name1,'please tell',name2,'that',name3,'is waiting')"
   ]
  },
  {
   "cell_type": "code",
   "execution_count": 7,
   "id": "83431a0a",
   "metadata": {},
   "outputs": [
    {
     "name": "stdout",
     "output_type": "stream",
     "text": [
      "hello harry please tell tom that jerry is waiting\n"
     ]
    }
   ],
   "source": [
    "message('harry','tom','jerry')"
   ]
  },
  {
   "cell_type": "code",
   "execution_count": 9,
   "id": "bee95484",
   "metadata": {},
   "outputs": [
    {
     "name": "stdout",
     "output_type": "stream",
     "text": [
      "8\n",
      "1\n"
     ]
    }
   ],
   "source": [
    "x1 = pow(2,3)\n",
    "x2 = pow(1,3)\n",
    "print(x1)\n",
    "print(x2)"
   ]
  },
  {
   "cell_type": "code",
   "execution_count": 15,
   "id": "0d856960",
   "metadata": {},
   "outputs": [],
   "source": [
    "def welcome(*name):\n",
    "    print('hello',name[0],',',name[1],',',name[2],',',name[3])\n",
    "    \n",
    "    "
   ]
  },
  {
   "cell_type": "code",
   "execution_count": 16,
   "id": "96d11065",
   "metadata": {},
   "outputs": [
    {
     "name": "stdout",
     "output_type": "stream",
     "text": [
      "hello harry , tom , jerry , richie\n"
     ]
    }
   ],
   "source": [
    "welcome('harry','tom','jerry','richie')"
   ]
  },
  {
   "cell_type": "code",
   "execution_count": 10,
   "id": "9159408d",
   "metadata": {},
   "outputs": [],
   "source": [
    "## Area of circle and sphere\n",
    "pi = 3.14\n",
    "\n",
    "def CircleArea(radius):\n",
    "    return pi*radius*radius\n"
   ]
  },
  {
   "cell_type": "code",
   "execution_count": 18,
   "id": "85ac67da",
   "metadata": {},
   "outputs": [
    {
     "data": {
      "text/plain": [
       "706.5"
      ]
     },
     "execution_count": 18,
     "metadata": {},
     "output_type": "execute_result"
    }
   ],
   "source": [
    "CircleArea(15)"
   ]
  },
  {
   "cell_type": "code",
   "execution_count": 21,
   "id": "6073af00",
   "metadata": {},
   "outputs": [],
   "source": [
    "def Square(L):\n",
    "    return L*L"
   ]
  },
  {
   "cell_type": "code",
   "execution_count": 22,
   "id": "527f5d0f",
   "metadata": {},
   "outputs": [
    {
     "data": {
      "text/plain": [
       "400"
      ]
     },
     "execution_count": 22,
     "metadata": {},
     "output_type": "execute_result"
    }
   ],
   "source": [
    "Square(20)"
   ]
  },
  {
   "cell_type": "code",
   "execution_count": 25,
   "id": "a983c07c",
   "metadata": {},
   "outputs": [],
   "source": [
    "def add(x,y):\n",
    "    sum = x+y\n",
    "    print(sum)"
   ]
  },
  {
   "cell_type": "code",
   "execution_count": 26,
   "id": "030e5ac7",
   "metadata": {},
   "outputs": [
    {
     "name": "stdout",
     "output_type": "stream",
     "text": [
      "90\n"
     ]
    }
   ],
   "source": [
    "add(40,50)"
   ]
  },
  {
   "cell_type": "code",
   "execution_count": 30,
   "id": "9f3eb11a",
   "metadata": {},
   "outputs": [],
   "source": [
    "def add(x,y):\n",
    "     sum = x+y\n",
    "     print(sum)\n",
    "    "
   ]
  },
  {
   "cell_type": "code",
   "execution_count": 31,
   "id": "02eab1ae",
   "metadata": {},
   "outputs": [
    {
     "name": "stdout",
     "output_type": "stream",
     "text": [
      "60\n"
     ]
    }
   ],
   "source": [
    "add(20,40)"
   ]
  },
  {
   "cell_type": "code",
   "execution_count": 32,
   "id": "10be04eb",
   "metadata": {},
   "outputs": [],
   "source": [
    "def add(x,y):\n",
    "    sum = x+y\n",
    "    print(sum)"
   ]
  },
  {
   "cell_type": "code",
   "execution_count": 33,
   "id": "d541b979",
   "metadata": {},
   "outputs": [
    {
     "name": "stdout",
     "output_type": "stream",
     "text": [
      "8384\n"
     ]
    }
   ],
   "source": [
    "add(572,7812)"
   ]
  },
  {
   "cell_type": "code",
   "execution_count": 34,
   "id": "e096945d",
   "metadata": {},
   "outputs": [],
   "source": [
    "def multiply(x,y):\n",
    "    product = x*y\n",
    "    print(product)\n",
    "     "
   ]
  },
  {
   "cell_type": "code",
   "execution_count": 35,
   "id": "2a3ea603",
   "metadata": {},
   "outputs": [
    {
     "name": "stdout",
     "output_type": "stream",
     "text": [
      "5488\n"
     ]
    }
   ],
   "source": [
    "multiply(56,98)"
   ]
  },
  {
   "cell_type": "code",
   "execution_count": 36,
   "id": "f3bc920f",
   "metadata": {},
   "outputs": [],
   "source": [
    "def sqrt(x):\n",
    "    square_root = sqrt(x)\n",
    "    print(square_root)\n",
    "    "
   ]
  },
  {
   "cell_type": "code",
   "execution_count": null,
   "id": "140935b8",
   "metadata": {},
   "outputs": [],
   "source": [
    "sqrt(100)"
   ]
  },
  {
   "cell_type": "code",
   "execution_count": 1,
   "id": "a7d0427a",
   "metadata": {},
   "outputs": [],
   "source": [
    "pi = 3.14\n",
    "\n",
    "def spherearea(radius):\n",
    "    return 4*pi*radius*radius\n"
   ]
  },
  {
   "cell_type": "code",
   "execution_count": 2,
   "id": "45c21cdf",
   "metadata": {},
   "outputs": [
    {
     "data": {
      "text/plain": [
       "200.96"
      ]
     },
     "execution_count": 2,
     "metadata": {},
     "output_type": "execute_result"
    }
   ],
   "source": [
    "spherearea(4)"
   ]
  },
  {
   "cell_type": "code",
   "execution_count": 5,
   "id": "c2d416ff",
   "metadata": {},
   "outputs": [
    {
     "name": "stdout",
     "output_type": "stream",
     "text": [
      "area of sphere(15): 314.0\n"
     ]
    }
   ],
   "source": [
    "print( 'area of sphere(15):', spherearea(5))"
   ]
  },
  {
   "cell_type": "code",
   "execution_count": 11,
   "id": "950c869d",
   "metadata": {},
   "outputs": [
    {
     "data": {
      "text/plain": [
       "314.0"
      ]
     },
     "execution_count": 11,
     "metadata": {},
     "output_type": "execute_result"
    }
   ],
   "source": [
    "CircleArea(10)"
   ]
  },
  {
   "cell_type": "code",
   "execution_count": 12,
   "id": "756105bb",
   "metadata": {},
   "outputs": [],
   "source": [
    "## Default arg\n",
    "\n",
    "def welcome(name = 'paul'):\n",
    "    print('Hello',name)\n",
    "    "
   ]
  },
  {
   "cell_type": "code",
   "execution_count": 13,
   "id": "cb8ba00b",
   "metadata": {},
   "outputs": [
    {
     "name": "stdout",
     "output_type": "stream",
     "text": [
      "Hello paul\n"
     ]
    }
   ],
   "source": [
    "welcome()"
   ]
  },
  {
   "cell_type": "code",
   "execution_count": 14,
   "id": "892cafd3",
   "metadata": {},
   "outputs": [],
   "source": [
    "def welcome(name= 'harry'):\n",
    "    print('hello',name)"
   ]
  },
  {
   "cell_type": "code",
   "execution_count": 15,
   "id": "071d38bc",
   "metadata": {},
   "outputs": [
    {
     "name": "stdout",
     "output_type": "stream",
     "text": [
      "hello harry\n"
     ]
    }
   ],
   "source": [
    "welcome()"
   ]
  },
  {
   "cell_type": "code",
   "execution_count": 16,
   "id": "4aedb740",
   "metadata": {},
   "outputs": [],
   "source": [
    "def welcome(name = 'rajan'):\n",
    "    print('hello',name)"
   ]
  },
  {
   "cell_type": "code",
   "execution_count": 17,
   "id": "f30d59ef",
   "metadata": {},
   "outputs": [
    {
     "name": "stdout",
     "output_type": "stream",
     "text": [
      "hello rajan\n"
     ]
    }
   ],
   "source": [
    "welcome()"
   ]
  },
  {
   "cell_type": "code",
   "execution_count": 18,
   "id": "1f6f003f",
   "metadata": {},
   "outputs": [
    {
     "name": "stdout",
     "output_type": "stream",
     "text": [
      "hello rajan\n"
     ]
    }
   ],
   "source": [
    "welcome()"
   ]
  },
  {
   "cell_type": "code",
   "execution_count": 21,
   "id": "fb4d60ae",
   "metadata": {},
   "outputs": [],
   "source": [
    "def welcome(name='barkey'):\n",
    "     print('hello',name)"
   ]
  },
  {
   "cell_type": "code",
   "execution_count": 22,
   "id": "8ecf5331",
   "metadata": {},
   "outputs": [
    {
     "name": "stdout",
     "output_type": "stream",
     "text": [
      "hello barkey\n"
     ]
    }
   ],
   "source": [
    "welcome()"
   ]
  },
  {
   "cell_type": "code",
   "execution_count": 28,
   "id": "d13a718f",
   "metadata": {},
   "outputs": [],
   "source": [
    "def factorial(x):\n",
    "    if x == 0:\n",
    "        return 1\n",
    "    else:\n",
    "        return x*factorial(x-1)\n"
   ]
  },
  {
   "cell_type": "code",
   "execution_count": 30,
   "id": "0ccaa831",
   "metadata": {},
   "outputs": [
    {
     "data": {
      "text/plain": [
       "120"
      ]
     },
     "execution_count": 30,
     "metadata": {},
     "output_type": "execute_result"
    }
   ],
   "source": [
    "factorial(5)"
   ]
  },
  {
   "cell_type": "code",
   "execution_count": 31,
   "id": "f873f6ab",
   "metadata": {},
   "outputs": [],
   "source": [
    "def factorial(x):\n",
    "    if x == 0:\n",
    "        return 1\n",
    "    else:\n",
    "        return x*factorial(x-1)\n",
    "    "
   ]
  },
  {
   "cell_type": "code",
   "execution_count": 32,
   "id": "5dd4c4e3",
   "metadata": {},
   "outputs": [
    {
     "data": {
      "text/plain": [
       "5040"
      ]
     },
     "execution_count": 32,
     "metadata": {},
     "output_type": "execute_result"
    }
   ],
   "source": [
    "factorial(7)"
   ]
  },
  {
   "cell_type": "code",
   "execution_count": 33,
   "id": "11e4af3f",
   "metadata": {},
   "outputs": [],
   "source": [
    "def absolute(x):\n",
    "    if x>=0:\n",
    "        return x\n",
    "    else:\n",
    "        return -(-x)"
   ]
  },
  {
   "cell_type": "code",
   "execution_count": 34,
   "id": "7be258af",
   "metadata": {},
   "outputs": [
    {
     "name": "stdout",
     "output_type": "stream",
     "text": [
      "56\n"
     ]
    }
   ],
   "source": [
    "print(absolute(56))"
   ]
  },
  {
   "cell_type": "code",
   "execution_count": 35,
   "id": "889caed3",
   "metadata": {},
   "outputs": [
    {
     "name": "stdout",
     "output_type": "stream",
     "text": [
      "-56\n"
     ]
    }
   ],
   "source": [
    "print(absolute(-56))"
   ]
  },
  {
   "cell_type": "code",
   "execution_count": 36,
   "id": "7c2e79e4",
   "metadata": {},
   "outputs": [],
   "source": [
    "def absolute(x):\n",
    "    if x>=0:\n",
    "        return x\n",
    "    else:\n",
    "        return -(-x)\n",
    "    \n",
    "    \n",
    "\n",
    "    "
   ]
  },
  {
   "cell_type": "code",
   "execution_count": 37,
   "id": "0d7e11d0",
   "metadata": {},
   "outputs": [
    {
     "data": {
      "text/plain": [
       "54"
      ]
     },
     "execution_count": 37,
     "metadata": {},
     "output_type": "execute_result"
    }
   ],
   "source": [
    "absolute(54)"
   ]
  },
  {
   "cell_type": "code",
   "execution_count": 38,
   "id": "e54c188b",
   "metadata": {},
   "outputs": [],
   "source": [
    "def ft_to_cm(ft):\n",
    "    centimeter = ft*30.48\n",
    "    return centimeter"
   ]
  },
  {
   "cell_type": "code",
   "execution_count": 40,
   "id": "258f47c8",
   "metadata": {},
   "outputs": [
    {
     "data": {
      "text/plain": [
       "365.76"
      ]
     },
     "execution_count": 40,
     "metadata": {},
     "output_type": "execute_result"
    }
   ],
   "source": [
    "ft_to_cm(12)"
   ]
  },
  {
   "cell_type": "code",
   "execution_count": 41,
   "id": "79450f5c",
   "metadata": {},
   "outputs": [],
   "source": [
    "def m_to_cm(m):\n",
    "    centimeter = m*100\n",
    "    return centimeter"
   ]
  },
  {
   "cell_type": "code",
   "execution_count": 42,
   "id": "2f2b8a00",
   "metadata": {},
   "outputs": [
    {
     "data": {
      "text/plain": [
       "2000"
      ]
     },
     "execution_count": 42,
     "metadata": {},
     "output_type": "execute_result"
    }
   ],
   "source": [
    "m_to_cm(20)"
   ]
  },
  {
   "cell_type": "code",
   "execution_count": 45,
   "id": "ffaa9852",
   "metadata": {},
   "outputs": [],
   "source": [
    "def hello():\n",
    "    name = str(input(\"Enter you country name:\"))\n",
    "    print(\"hello\"+ str(name))"
   ]
  },
  {
   "cell_type": "code",
   "execution_count": 46,
   "id": "c6188b66",
   "metadata": {},
   "outputs": [
    {
     "name": "stdout",
     "output_type": "stream",
     "text": [
      "Enter you country name:india\n",
      "helloindia\n"
     ]
    }
   ],
   "source": [
    "hello()"
   ]
  },
  {
   "cell_type": "code",
   "execution_count": 51,
   "id": "3bde143d",
   "metadata": {},
   "outputs": [],
   "source": [
    "def hello():\n",
    "    name = str(input('Enter name of country:'))\n",
    "    print('hello'+str(name))\n",
    "    "
   ]
  },
  {
   "cell_type": "code",
   "execution_count": 52,
   "id": "d1268f72",
   "metadata": {},
   "outputs": [
    {
     "name": "stdout",
     "output_type": "stream",
     "text": [
      "Enter name of country:india\n",
      "helloindia\n"
     ]
    }
   ],
   "source": [
    "hello()"
   ]
  },
  {
   "cell_type": "code",
   "execution_count": 53,
   "id": "1a7ddd7c",
   "metadata": {},
   "outputs": [],
   "source": [
    "def Good_morning():\n",
    "    name = str(input(\"Enter name of Country\"))\n",
    "    print('Good_morning',name)"
   ]
  },
  {
   "cell_type": "code",
   "execution_count": 55,
   "id": "073c1395",
   "metadata": {},
   "outputs": [
    {
     "name": "stdout",
     "output_type": "stream",
     "text": [
      "Enter name of CountryIndia\n",
      "Good_morning India\n"
     ]
    }
   ],
   "source": [
    "Good_morning()"
   ]
  },
  {
   "cell_type": "code",
   "execution_count": 61,
   "id": "85e1b376",
   "metadata": {},
   "outputs": [],
   "source": [
    "def my_country():\n",
    "    name = str(input(\"where is my country\"))\n",
    "    print('my_country',name)"
   ]
  },
  {
   "cell_type": "code",
   "execution_count": 62,
   "id": "d4fe1e7f",
   "metadata": {},
   "outputs": [
    {
     "name": "stdout",
     "output_type": "stream",
     "text": [
      "where is my countryIndia\n",
      "my_country India\n"
     ]
    }
   ],
   "source": [
    "my_country()"
   ]
  },
  {
   "cell_type": "code",
   "execution_count": 63,
   "id": "50e89960",
   "metadata": {},
   "outputs": [],
   "source": [
    "def hello(*name):\n",
    "    print('hello',name[0],',',name[1],',',name[2],',',name[3],',',name[4])\n",
    "    "
   ]
  },
  {
   "cell_type": "code",
   "execution_count": 64,
   "id": "54f34fa9",
   "metadata": {},
   "outputs": [
    {
     "name": "stdout",
     "output_type": "stream",
     "text": [
      "hello harry , madii , james , tonny , rajan\n"
     ]
    }
   ],
   "source": [
    "hello('harry','madii','james','tonny','rajan')"
   ]
  },
  {
   "cell_type": "code",
   "execution_count": 68,
   "id": "d9ad7388",
   "metadata": {},
   "outputs": [],
   "source": [
    "def message(name):\n",
    "    print(\"how are you\",name)"
   ]
  },
  {
   "cell_type": "code",
   "execution_count": 70,
   "id": "256fd491",
   "metadata": {},
   "outputs": [
    {
     "name": "stdout",
     "output_type": "stream",
     "text": [
      "how are you rajan\n"
     ]
    }
   ],
   "source": [
    "message('rajan')"
   ]
  },
  {
   "cell_type": "code",
   "execution_count": 82,
   "id": "efd5bce4",
   "metadata": {},
   "outputs": [],
   "source": [
    "## Conversion of units\n",
    "\n",
    "def kg_to_lb(lb):\n",
    "    kg = lb*2.20\n",
    "    lb = kg/2.20\n",
    "    return lb,kg"
   ]
  },
  {
   "cell_type": "code",
   "execution_count": 83,
   "id": "f995962f",
   "metadata": {},
   "outputs": [
    {
     "data": {
      "text/plain": [
       "(20.0, 44.0)"
      ]
     },
     "execution_count": 83,
     "metadata": {},
     "output_type": "execute_result"
    }
   ],
   "source": [
    "kg_to_lb(20)"
   ]
  },
  {
   "cell_type": "code",
   "execution_count": 84,
   "id": "322eaff7",
   "metadata": {},
   "outputs": [
    {
     "data": {
      "text/plain": [
       "(40.0, 88.0)"
      ]
     },
     "execution_count": 84,
     "metadata": {},
     "output_type": "execute_result"
    }
   ],
   "source": [
    "kg_to_lb(40)"
   ]
  },
  {
   "cell_type": "code",
   "execution_count": 87,
   "id": "78778953",
   "metadata": {},
   "outputs": [],
   "source": [
    "def hello(name='paul'):\n",
    "    print('hello:',name)"
   ]
  },
  {
   "cell_type": "code",
   "execution_count": 88,
   "id": "b2d3a198",
   "metadata": {},
   "outputs": [
    {
     "name": "stdout",
     "output_type": "stream",
     "text": [
      "hello: paul\n"
     ]
    }
   ],
   "source": [
    "hello()"
   ]
  },
  {
   "cell_type": "code",
   "execution_count": 97,
   "id": "1d16f73c",
   "metadata": {},
   "outputs": [],
   "source": [
    "def factorial(x):\n",
    "    if x==0:\n",
    "        return 1\n",
    "    else:\n",
    "        return x*factorial(x-1)\n",
    "    "
   ]
  },
  {
   "cell_type": "code",
   "execution_count": 100,
   "id": "a189b094",
   "metadata": {},
   "outputs": [
    {
     "data": {
      "text/plain": [
       "40320"
      ]
     },
     "execution_count": 100,
     "metadata": {},
     "output_type": "execute_result"
    }
   ],
   "source": [
    "factorial(8)"
   ]
  },
  {
   "cell_type": "code",
   "execution_count": 101,
   "id": "1651249f",
   "metadata": {},
   "outputs": [],
   "source": [
    "def factorial(x):\n",
    "    if x==0:\n",
    "        return 1\n",
    "    else:\n",
    "        return x*factorial(x-1)\n",
    "    "
   ]
  },
  {
   "cell_type": "code",
   "execution_count": 103,
   "id": "281207f2",
   "metadata": {},
   "outputs": [
    {
     "data": {
      "text/plain": [
       "720"
      ]
     },
     "execution_count": 103,
     "metadata": {},
     "output_type": "execute_result"
    }
   ],
   "source": [
    "factorial(6)"
   ]
  },
  {
   "cell_type": "code",
   "execution_count": 106,
   "id": "575a15ea",
   "metadata": {},
   "outputs": [],
   "source": [
    "def absolute(x):\n",
    "    if x>=0:\n",
    "        return x\n",
    "    else:\n",
    "        return -(-x)\n",
    "    "
   ]
  },
  {
   "cell_type": "code",
   "execution_count": 107,
   "id": "39e5fe8e",
   "metadata": {},
   "outputs": [
    {
     "data": {
      "text/plain": [
       "2"
      ]
     },
     "execution_count": 107,
     "metadata": {},
     "output_type": "execute_result"
    }
   ],
   "source": [
    "absolute(2)"
   ]
  },
  {
   "cell_type": "code",
   "execution_count": 108,
   "id": "5df7bfdd",
   "metadata": {},
   "outputs": [
    {
     "data": {
      "text/plain": [
       "-46"
      ]
     },
     "execution_count": 108,
     "metadata": {},
     "output_type": "execute_result"
    }
   ],
   "source": [
    "absolute(-46)"
   ]
  },
  {
   "cell_type": "code",
   "execution_count": 109,
   "id": "7c372805",
   "metadata": {},
   "outputs": [
    {
     "name": "stdout",
     "output_type": "stream",
     "text": [
      "('s', 'a', 'b', 'c', 'd')\n"
     ]
    }
   ],
   "source": [
    "## slice()\n",
    "\n",
    "## Slice function is used to display a data elements upto specify number\n",
    "a = ('s','a','b','c','d','g','k','r','p')\n",
    "x = slice(5)\n",
    "print(a[x])"
   ]
  },
  {
   "cell_type": "code",
   "execution_count": 111,
   "id": "afe83a21",
   "metadata": {},
   "outputs": [
    {
     "name": "stdout",
     "output_type": "stream",
     "text": [
      "('b', 'd')\n"
     ]
    }
   ],
   "source": [
    "q = ('b','d','t','r','l','p','h','f')\n",
    "x = slice(-6)\n",
    "print(q[x])"
   ]
  },
  {
   "cell_type": "code",
   "execution_count": 112,
   "id": "12ef1d0c",
   "metadata": {},
   "outputs": [
    {
     "name": "stdout",
     "output_type": "stream",
     "text": [
      "[2, 3, 4, 6, 7, 8, 10, 16, 19, 23]\n"
     ]
    }
   ],
   "source": [
    "my_list = [2,3,4,6,7,8,10,16,19,23]\n",
    "x = sorted(my_list)\n",
    "print(x)"
   ]
  },
  {
   "cell_type": "code",
   "execution_count": 113,
   "id": "23873982",
   "metadata": {},
   "outputs": [
    {
     "name": "stdout",
     "output_type": "stream",
     "text": [
      "[1, 2, 3, 4, 6, 12, 19, 23, 29, 46]\n"
     ]
    }
   ],
   "source": [
    "my_list1 = [3,4,1,6,2,29,12,46,23,19]\n",
    "x1 = sorted(my_list1)\n",
    "print(x1)"
   ]
  },
  {
   "cell_type": "code",
   "execution_count": 114,
   "id": "9ed66bc0",
   "metadata": {},
   "outputs": [
    {
     "name": "stdout",
     "output_type": "stream",
     "text": [
      "['N', 'I', 'I', 'D', 'A']\n"
     ]
    }
   ],
   "source": [
    "y = ['I','N','D','I','A']\n",
    "\n",
    "x = sorted(y,reverse = True)\n",
    "\n",
    "print(x)"
   ]
  },
  {
   "cell_type": "code",
   "execution_count": 115,
   "id": "9c48aab9",
   "metadata": {},
   "outputs": [
    {
     "name": "stdout",
     "output_type": "stream",
     "text": [
      "['A', 'A', 'C', 'E', 'I', 'M', 'R']\n"
     ]
    }
   ],
   "source": [
    "x = ['A','M','E','R','I','C','A']\n",
    "y = sorted(x)\n",
    "print(y)"
   ]
  },
  {
   "cell_type": "code",
   "execution_count": 116,
   "id": "de4338cc",
   "metadata": {},
   "outputs": [
    {
     "name": "stdout",
     "output_type": "stream",
     "text": [
      "['A', 'D', 'I', 'I', 'N']\n"
     ]
    }
   ],
   "source": [
    "x = ['I','N','D','I','A']\n",
    "y = sorted(x)\n",
    "print(y)"
   ]
  },
  {
   "cell_type": "code",
   "execution_count": 119,
   "id": "2833270a",
   "metadata": {},
   "outputs": [],
   "source": [
    "## round()\n",
    "## Round is the function used to display the number upto to given decimal points\n",
    "\n",
    "x = round(5.46578,3)"
   ]
  },
  {
   "cell_type": "code",
   "execution_count": 118,
   "id": "9ee4e973",
   "metadata": {},
   "outputs": [
    {
     "name": "stdout",
     "output_type": "stream",
     "text": [
      "5.466\n"
     ]
    }
   ],
   "source": [
    "print(x)"
   ]
  },
  {
   "cell_type": "code",
   "execution_count": null,
   "id": "928a5044",
   "metadata": {},
   "outputs": [],
   "source": []
  }
 ],
 "metadata": {
  "kernelspec": {
   "display_name": "Python 3 (ipykernel)",
   "language": "python",
   "name": "python3"
  },
  "language_info": {
   "codemirror_mode": {
    "name": "ipython",
    "version": 3
   },
   "file_extension": ".py",
   "mimetype": "text/x-python",
   "name": "python",
   "nbconvert_exporter": "python",
   "pygments_lexer": "ipython3",
   "version": "3.10.9"
  }
 },
 "nbformat": 4,
 "nbformat_minor": 5
}
